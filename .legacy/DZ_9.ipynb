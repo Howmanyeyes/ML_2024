{
 "cells": [
  {
   "cell_type": "code",
   "execution_count": 37,
   "metadata": {},
   "outputs": [],
   "source": [
    "import numpy as np\n",
    "import pandas as pd\n",
    "\n",
    "dataset = pd.read_csv('Run200_Wave_0_1.txt', sep=' ', header=None, skipinitialspace=True)\n",
    "dataset = dataset.drop([0, 1, 2, 3, 504], axis=1)\n",
    "dataset.columns = list(range(500))\n",
    "dataset.head()\n",
    "dataset = dataset.iloc[:, 150:165]"
   ]
  },
  {
   "cell_type": "code",
   "execution_count": null,
   "metadata": {},
   "outputs": [
    {
     "name": "stdout",
     "output_type": "stream",
     "text": [
      "        150       151       152       153       154       155       156  \\\n",
      "0  0.601662  0.581099  0.552028  0.537293  0.506689  0.513828  0.550254   \n",
      "1 -0.163221 -0.013625  0.051435  0.075726  0.085272  0.086740  0.098162   \n",
      "2 -0.468229 -0.337983 -0.214614 -0.155327 -0.132778 -0.092260 -0.099813   \n",
      "3  0.559140  0.539247  0.528836  0.519478  0.511094  0.500219  0.502976   \n",
      "4 -0.107049  0.051246  0.099569  0.142127  0.162360  0.173623  0.188285   \n",
      "\n",
      "        157       158       159       160       161       162       163  \\\n",
      "0  0.540380  0.520389  0.503769  0.526762  0.528665  0.566078  0.551525   \n",
      "1  0.126682  0.176620  0.210933  0.201228  0.285329  0.382211  0.310504   \n",
      "2 -0.042833 -0.048979  0.027469 -0.115263  0.013698 -0.128533 -0.235809   \n",
      "3  0.538362  0.560675  0.560220  0.558411  0.636186  0.491169  0.471185   \n",
      "4  0.197314  0.147077  0.115672  0.255484  0.347578  0.300492  0.254266   \n",
      "\n",
      "        164  \n",
      "0  0.581828  \n",
      "1  0.125463  \n",
      "2 -0.153945  \n",
      "3  0.404870  \n",
      "4  0.283794  \n"
     ]
    }
   ],
   "source": [
    "from sklearn.preprocessing import StandardScaler\n",
    "\n",
    "scaler = StandardScaler()\n",
    "\n",
    "scaled_data = scaler.fit_transform(dataset)\n",
    "\n",
    "scaled_dataset = pd.DataFrame(scaled_data, columns=dataset.columns)\n",
    "\n",
    "print(scaled_dataset.head())\n"
   ]
  },
  {
   "cell_type": "code",
   "execution_count": 40,
   "metadata": {},
   "outputs": [],
   "source": [
    "from sklearn.cluster import KMeans\n",
    "\n",
    "k = 3\n",
    "\n",
    "kmeans = KMeans(n_clusters=k, random_state=42)\n",
    "\n",
    "kmeans.fit(scaled_dataset)\n",
    "\n",
    "cluster_labels = kmeans.labels_\n"
   ]
  },
  {
   "cell_type": "code",
   "execution_count": 41,
   "metadata": {},
   "outputs": [
    {
     "name": "stdout",
     "output_type": "stream",
     "text": [
      "   index  cluster\n",
      "0      0        0\n",
      "1      1        0\n",
      "2      2        0\n",
      "3      3        0\n",
      "4      4        0\n"
     ]
    }
   ],
   "source": [
    "output = pd.DataFrame({\n",
    "    'index': dataset.index,\n",
    "    'cluster': cluster_labels\n",
    "})\n",
    "\n",
    "output_sorted = output.sort_values(by=['cluster', 'index']).reset_index(drop=True)\n",
    "\n",
    "print(output_sorted.head())\n",
    "\n",
    "output_sorted.to_csv('sub.csv', index=False)\n",
    "output_sorted.to_csv('sub.txt', index=False)\n"
   ]
  }
 ],
 "metadata": {
  "kernelspec": {
   "display_name": "ML_2024_venv",
   "language": "python",
   "name": "python3"
  },
  "language_info": {
   "codemirror_mode": {
    "name": "ipython",
    "version": 3
   },
   "file_extension": ".py",
   "mimetype": "text/x-python",
   "name": "python",
   "nbconvert_exporter": "python",
   "pygments_lexer": "ipython3",
   "version": "3.11.9"
  }
 },
 "nbformat": 4,
 "nbformat_minor": 2
}
