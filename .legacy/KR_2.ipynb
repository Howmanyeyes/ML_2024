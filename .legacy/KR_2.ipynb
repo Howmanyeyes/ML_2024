{
 "cells": [
  {
   "cell_type": "markdown",
   "metadata": {},
   "source": [
    "1. Опишите теоретическую модель градиентного спуска\n",
    "\n",
    "2. Напишите следующий год: сгенерируйте данные в виде набора точек; постройте регрессионную модель;\n",
    "оцените её точность; визуализируйте результат.\n",
    "\n",
    "3. Опишите метрику для проверки качества алгоритмов классификации.\n",
    "\n",
    "4. Опишите технологию масштабирования признаков. Привидите примеры."
   ]
  },
  {
   "cell_type": "markdown",
   "metadata": {},
   "source": [
    "### 1 Номер\n",
    "\n",
    "Вот так выглядет гардиент какого-либо вектора\n",
    "$\\nabla J(\\theta) = \\left[ \\frac{\\partial J(\\theta)}{\\partial \\theta_1}, \\frac{\\partial J(\\theta)}{\\partial \\theta_2}, \\dots, \\frac{\\partial J(\\theta)}{\\partial \\theta_n} \\right]$\n",
    "\n",
    "Он показывает направление, в котором ветор растет. Соответственно можно сделать финт ушами: за ветор взять ошибку, а вместо того чтобы ее увеличивать, ее уменьшать, тогда:\n",
    "\n",
    "$J(\\theta) = \\frac{1}{m} \\sum_{i=1}^{m} \\left( h_\\theta(x^{(i)}) - y^{(i)} \\right)^2$ - наша ошибка\n",
    "и благодаря математике мы знаем, что \n",
    "$\\nabla J(\\theta) = \\frac{2}{m} X^T (X \\theta - y)$ (так проще считать)\n",
    "\n",
    "Теперь мы можем обновить наши веса:\n",
    "$\\theta = \\theta - \\eta \\cdot \\nabla J(\\theta)$\n"
   ]
  },
  {
   "cell_type": "markdown",
   "metadata": {},
   "source": [
    "### 2 Номер "
   ]
  },
  {
   "cell_type": "code",
   "execution_count": 1,
   "metadata": {},
   "outputs": [],
   "source": [
    "import numpy as np\n",
    "import matplotlib.pyplot as plt"
   ]
  },
  {
   "cell_type": "code",
   "execution_count": 2,
   "metadata": {},
   "outputs": [],
   "source": [
    "class StupidModel:\n",
    "    def __init__(self):\n",
    "        self.dimension = 0\n",
    "        self.weights = []\n",
    "        self.bias = 0\n",
    "        self.learning_rate = 0.01\n",
    "        self.epochs = 1000\n",
    "\n",
    "    def train(self, X, y):\n",
    "        self.dimension = X.shape[1] # Для визуализации \n",
    "        self.weights = np.zeros(self.dimension) # сколько измеренийц столько и весов, удивительно\n",
    "        self.bias = 0 # его можно любым брать\n",
    "        \n",
    "        m = len(X)\n",
    "\n",
    "        for epoch in range(self.epochs):\n",
    "            # Предсказание на основе текущих весов и смещения\n",
    "            y_pred = np.dot(X, self.weights) + self.bias\n",
    "\n",
    "            # Вычисление ошибок\n",
    "            errors = y_pred - y\n",
    "\n",
    "            # Вычисление градиентов\n",
    "            gradient_w = (1 / m) * np.dot(X.T, errors)  # Градиент по весам\n",
    "            # Тут стоит сказать, что гардиент по весам вычисляется по формуле 1/l * X^T * e\n",
    "            # такой неочевидный вид уравнения происходит из матричного анализа? \n",
    "            gradient_b = (1 / m) * np.sum(errors)       # Градиент по смещению\n",
    "            # а гардиент по смещению - парень простой потому что взаимодействует только со смещением\n",
    "            # т.е. числом, и все у него хорошо\n",
    "\n",
    "            # Обновление весов и смещения\n",
    "            self.weights -= self.learning_rate * gradient_w\n",
    "            self.bias -= self.learning_rate * gradient_b\n",
    "\n",
    "    def predict(self, X):\n",
    "        return np.dot(X, self.weights) + self.bias\n",
    "    \n",
    "    def print_evaluation_metrics(self, y_true, y_pred):\n",
    "        mse = np.mean((y_pred - y_true) ** 2)\n",
    "        # MSE = 1 / n * sum((y-Y)^2)\n",
    "        # Нужен чтобы оценить средний квадрат ошибки. Это позволяет грубо оценить \"хорошесть\" модели \n",
    "\n",
    "        rmse = np.sqrt(mse)\n",
    "        # RMSE = sqrt(MSE)\n",
    "        # Нужен чтобы оценка средней ошибки изменялась не в квадратах единиц, а в еденицах\n",
    "        # по сути просто чуть более приближено к реальности        \n",
    "\n",
    "        mae = np.mean(np.abs(y_pred - y_true))\n",
    "        # MAE = 1 / n * sum(y-Y)\n",
    "        # Нужно чтобы было как MSE, но меньше колебалось из-за выбросов, которые сильно могут \n",
    "        # подпортить малину MSE'шке \n",
    "        \n",
    "        ss_total = np.sum((y_true - np.mean(y_true)) ** 2)\n",
    "        ss_residual = np.sum((y_true - y_pred) ** 2)\n",
    "        r_squared = 1 - (ss_residual / ss_total)\n",
    "        # R^2 = 1 - MSE/sum((Y-mean(Y))^2)\n",
    "        # Показывает, насколько нейронка вообще понимает что делает, при R = 1 нейронка осознаная,\n",
    "        # нормально предсказывает\n",
    "        # при R = 0 нейронка тупо всегда говорит среднее число\n",
    "        # при R < 1 значит что нейронка хуже чем среднее число  \n",
    "        \n",
    "        print(f\"Mean Squared Error (MSE): {mse:.4f}\")\n",
    "        print(f\"Root Mean Squared Error (RMSE): {rmse:.4f}\")\n",
    "        print(f\"Mean Absolute Error (MAE): {mae:.4f}\")\n",
    "        print(f\"R-squared: {r_squared:.4f}\")\n",
    "\n",
    "    def analyze_result(self, X, y):\n",
    "        y_pred = self.predict(X)\n",
    "        mse = np.mean((y_pred - y) ** 2)\n",
    "        # print(f\"Mean Squared Error: {mse}\")\n",
    "        print(f\"Weights: {self.weights}\")\n",
    "        print(f\"Bias: {self.bias}\")\n",
    "        if self.dimension == 1:\n",
    "            plt.scatter(X[:, 0], y, color='blue', label='Actual')\n",
    "            plt.scatter(X[:, 0], y_pred, color='red', label='Predicted')\n",
    "            plt.xlabel('X')\n",
    "            plt.ylabel('y')\n",
    "            plt.legend()\n",
    "            plt.show()\n",
    "        elif self.dimension == 2:\n",
    "            fig = plt.figure()\n",
    "            ax = fig.add_subplot(111, projection='3d')\n",
    "            ax.scatter(X[:, 0], X[:, 1], y, color='blue', label='Actual')\n",
    "            ax.scatter(X[:, 0], X[:, 1], y_pred, color='red', label='Predicted')\n",
    "            ax.set_xlabel('X1')\n",
    "            ax.set_ylabel('X2')\n",
    "            ax.set_zlabel('y')\n",
    "            ax.legend()\n",
    "            plt.show()"
   ]
  },
  {
   "cell_type": "code",
   "execution_count": 3,
   "metadata": {},
   "outputs": [
    {
     "name": "stdout",
     "output_type": "stream",
     "text": [
      "Mean Squared Error (MSE): 0.2087\n",
      "Root Mean Squared Error (RMSE): 0.4568\n",
      "Mean Absolute Error (MAE): 0.3644\n",
      "R-squared: 0.9970\n",
      "Weights: [3.04736206]\n",
      "Bias: 1.7029999724219802\n"
     ]
    },
    {
     "data": {
      "image/png": "[encoded data removed]",
      "text/plain": [
       "<Figure size 640x480 with 1 Axes>"
      ]
     },
     "metadata": {},
     "output_type": "display_data"
    }
   ],
   "source": [
    "num_samples = 100\n",
    "X = np.random.rand(num_samples, 1) * 10\n",
    "y = 3 * X[:, 0] + 2 + np.random.randn(num_samples) * 0.5 \n",
    "\n",
    "model = StupidModel()\n",
    "model.train(X, y)\n",
    "model.print_evaluation_metrics(y, model.predict(X))\n",
    "model.analyze_result(X, y)\n"
   ]
  },
  {
   "cell_type": "markdown",
   "metadata": {},
   "source": [
    "### 3 Номер\n",
    "``` python\n",
    "print(f'Accuracy: {accuracy:.4f}')\n",
    "# все верные предсказания / все предсказания\n",
    "# сама по себе не очень полезна, особенно если датасет \"странный\", но позволяет быстро определить\n",
    "# насколько все плохо  \n",
    "print('Confusion Matrix:')\n",
    "print(cm)\n",
    "print(\"True Negative || False Positive\")\n",
    "print(\"False Negative || True Positive\")\n",
    "# Самая информативная метрика, от того и сложно читаемая\n",
    "#  |                  | Predicted Positive | Predicted Negative |\n",
    "#  |------------------|--------------------|--------------------|\n",
    "#  | Actual Positive  | True Positive (TP) | False Negative (FN)|\n",
    "#  | Actual Negative  | False Positive (FP)| True Negative (TN) |\n",
    "# Показывает насколько хорошо модель справилась с классификацией. Вообще матрица может быть любого\n",
    "# \"квадратного\" размера, но в таком случае ее исследовать становится тяжелее и тяжелее, поэтому \n",
    "# рассмотрим 2х2. ТР это когда значение = 1 и нейронка сказала что значение = 1. ТN соответственно \n",
    "# наоборот. FN и FP это когда нейронка ошибается в ту или иную сторону. По этой матрице можно \n",
    "# понять что вообще нейронка научилась делать. К примеру если вы изначально хотели научить ее \n",
    "# различать 10 классов, но так вышло что она может с хорошей точностью определять лишь 1, то \n",
    "# это будет заметно только в этой матрице, но не в accuracy \n",
    "\n",
    "# Сегодня мне привели замечательную аналогию для более простого понимания этой матрицы, если \n",
    "# столбцами называть \"реальные\" значения в классах, а строки предсказаные то все рпезко встает \n",
    "# на свои места. \n",
    "\n",
    "\n",
    "print(f\"Precision: {report['precision']:.4f}\")\n",
    "# это отношения количества реальных 1 к сумме всех предсказанных едениц TP/(TP+FP). Собственно по\n",
    "# этой метрике можно как раз увидеть что 1 из 10 классов предсказывается очень \"хорошо\". Например\n",
    "# модель может выбрать один из классов \"мусорным\" и в него скидывать все в чем не уверена на 100%,\n",
    "# тогда для одного из немусорных классов пресижн будет большим. \n",
    "\n",
    "print(f\"Recall: {report['recall']:.4f}\")\n",
    "# а тут отношение количества реальных едениц к сумме из предсказанных едениц и \"недопредсказанных\"\n",
    "# едениц. Это нужно когда нам очень важно чтобы минимальное количество едениц осталось нулями.\n",
    "# Эту метрику можно легко обмануть непропорциональным кол-вом данных для одного из классов. \n",
    "# Например пытаясь делать классификацию в датасете в котором 95% строк пренадлежат одному и тому же\n",
    "# классу модель скорее начнет всегда говорить что строка пренадлежит именно этому классу \n",
    "\n",
    "print(f\"F1-Score: {report['f1-score']:.4f}\")\n",
    "# а f1 как раз является средним гармоническим между присижном и реколлом, он нужен чтобы модель не \n",
    "# могла по хитрому нас обдурить, например всегда выбирая один из классов она максимизирует реколл\n",
    "# или перетренировавшись на один из классов чтобы максимизировать присижн \n",
    "```"
   ]
  },
  {
   "cell_type": "markdown",
   "metadata": {},
   "source": [
    "### 4 Номер\n",
    "\n",
    "Как и во всем другом существует несколько основынх, и очень много специфичных.\n",
    "Из основных:\n",
    "- Нормализация $\\frac{X-min(X)}{max(X) - min(X)}$\n",
    "- Стандартизация - разбитие на отклонения по Гауссу $\\frac{X - M_x}{D_x}$\n",
    "- Логарифмерирование $\\log_{10}{1+X}$\n",
    "\n",
    "Все эти техники нужны чтобы лучше подготовить данные чтобы на их основе обучилось более \"хорошая\"\n",
    "модель. \n",
    "Например для линейной регрессии на гардиентном спуске нормализация (и стандартизация если данные\n",
    "позволяют) помогают тем, что делают гардиентный спуск более \"стабильным\". Если бы у одной переменной\n",
    "масштаб был порядка 10^1, ф у другой 10^12, то явно скачки весов во второй переменной были бы больше\n",
    "а на первой соответственно могли бы быит недостаточно большими (если lr подогнан под второй признак)\n",
    "\n",
    "Но для деревьев например нормализация не нужна"
   ]
  }
 ],
 "metadata": {
  "kernelspec": {
   "display_name": ".ML_2024",
   "language": "python",
   "name": "python3"
  },
  "language_info": {
   "codemirror_mode": {
    "name": "ipython",
    "version": 3
   },
   "file_extension": ".py",
   "mimetype": "text/x-python",
   "name": "python",
   "nbconvert_exporter": "python",
   "pygments_lexer": "ipython3",
   "version": "3.11.9"
  }
 },
 "nbformat": 4,
 "nbformat_minor": 2
}
