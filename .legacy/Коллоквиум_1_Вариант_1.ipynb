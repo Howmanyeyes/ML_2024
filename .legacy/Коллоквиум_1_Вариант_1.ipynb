{
  "cells": [
    {
      "cell_type": "markdown",
      "metadata": {
        "id": "Yzk_yB7pbSMF"
      },
      "source": [
        "## Списки"
      ]
    },
    {
      "cell_type": "markdown",
      "metadata": {
        "id": "DCBX5mGMbYKO"
      },
      "source": [
        "Вам дан список. Создайте новый список, в котором порядок следования элементов будет обратным относительно исходного списка."
      ]
    },
    {
      "cell_type": "code",
      "execution_count": null,
      "metadata": {
        "id": "EJPTuUJAbVHi"
      },
      "outputs": [],
      "source": [
        "# ваше решение\n",
        "a = [1,2,3,4]\n",
        "b = a.reverse()\n",
        "print(b)"
      ]
    },
    {
      "cell_type": "markdown",
      "metadata": {
        "id": "uBVE7ILhbdYj"
      },
      "source": [
        "Вам дан список. Создайте новый список, в котором будут присутствовать только чётные элементы исходного списка."
      ]
    },
    {
      "cell_type": "code",
      "execution_count": null,
      "metadata": {
        "id": "8bgHZzbobdjm"
      },
      "outputs": [],
      "source": [
        "# ваше решение\n",
        "a = [1, 2, 3, 4]\n",
        "a = [x for x in a if x%2 == 0]"
      ]
    },
    {
      "cell_type": "markdown",
      "metadata": {
        "id": "Gl1KfvjTbiA_"
      },
      "source": [
        "## Генераторы"
      ]
    },
    {
      "cell_type": "markdown",
      "metadata": {
        "id": "VwS1f2I_bkbw"
      },
      "source": [
        "Вам дан список. Создайте новый список, который удвоит каждый элемент исходного списка."
      ]
    },
    {
      "cell_type": "code",
      "execution_count": null,
      "metadata": {
        "id": "Med_JeSDbnYD"
      },
      "outputs": [],
      "source": [
        "# ваше решение\n",
        "a = [1, 2, 3, 4]\n",
        "a = [x*2 for x in a]"
      ]
    },
    {
      "cell_type": "markdown",
      "metadata": {
        "id": "rhEKi88SborL"
      },
      "source": [
        "Вам дан список. Создайте новый список, который увеличит на треть элемент исходного списка."
      ]
    },
    {
      "cell_type": "code",
      "execution_count": null,
      "metadata": {
        "id": "oA0hEJBibrFi"
      },
      "outputs": [],
      "source": [
        "# ваше решение\n",
        "a = [1, 2, 3, 4]\n",
        "a = [(x + (x*1/3)) for x in a] # ТЗ не ясно, \"увеличит на треть ЭЛЕМЕНТ исходного списка\". Какой элемент?"
      ]
    },
    {
      "cell_type": "markdown",
      "metadata": {
        "id": "R3CZD0rPbsQ1"
      },
      "source": [
        "## Встроенные функции"
      ]
    },
    {
      "cell_type": "markdown",
      "metadata": {
        "id": "WYWx-Y2xbvKj"
      },
      "source": [
        "Вам дана строка. Выведите ascii-код максимального элемента в строке."
      ]
    },
    {
      "cell_type": "code",
      "execution_count": null,
      "metadata": {
        "id": "OSEB4nUcbxu3"
      },
      "outputs": [],
      "source": [
        "# ваше решение\n",
        "a = str(input())\n",
        "print(max([ord(x) for x in a]))\n",
        "# ТЗ не ясно, \"максимального элемента\". Максимальный это последний или первый в алфовитном смысле?"
      ]
    },
    {
      "cell_type": "markdown",
      "metadata": {
        "id": "nK7ZcqS-byRF"
      },
      "source": [
        "Вам дана строка. Преобразуйте её в кортежи, состоящие из пары – порядковый номер элемента строки, ascii-код элемента."
      ]
    },
    {
      "cell_type": "code",
      "execution_count": null,
      "metadata": {
        "id": "H13zQg2_b1be"
      },
      "outputs": [],
      "source": [
        "# ваше решение\n",
        "a = str(input())\n",
        "corteges = [(i, ord(a[i])) for i in range(len(a))]"
      ]
    },
    {
      "cell_type": "markdown",
      "metadata": {
        "id": "0k9-AEnkb5r0"
      },
      "source": [
        "## NumPy"
      ]
    },
    {
      "cell_type": "markdown",
      "metadata": {
        "id": "UmlNzlQsb8NF"
      },
      "source": [
        "Создайте многомерный массив, посчитайте суммы элементов по различным осям."
      ]
    },
    {
      "cell_type": "code",
      "execution_count": null,
      "metadata": {
        "id": "4gAPKfIVb_wz"
      },
      "outputs": [],
      "source": [
        "# ваше решение\n",
        "import numpy as np\n",
        "arr = np.array([[[1, 2, 3, 4, 5],[1, 2, 3, 4, 5],[1, 2, 3, 4, 5],[1, 2, 3, 4, 5],[1, 2, 3, 4, 5]],\n",
        "               [[1, 2, 3, 4, 5],[1, 2, 3, 4, 5],[1, 2, 3, 4, 5],[1, 2, 3, 4, 5],[1, 2, 3, 4, 5]],\n",
        "               [[1, 2, 3, 4, 5],[1, 2, 3, 4, 5],[1, 2, 3, 4, 5],[1, 2, 3, 4, 5],[1, 2, 3, 4, 5]]])\n",
        "print(f'Axis 0 sum: {arr.sum(axis=0)}\\nAxis 1 sum: {arr.sum(axis=1)}\\nAxis 2 sum: {arr.sum(axis=2)}')"
      ]
    },
    {
      "cell_type": "markdown",
      "metadata": {
        "id": "zJXbGiA_cIpW"
      },
      "source": [
        "Дан массив A (numpy.array()), заполненный 1.\n",
        "Дан массив I (numpy.array()) индексов.\n",
        "\n",
        "Прибавьте к каждому значению массиву A по массиву индексов +1."
      ]
    },
    {
      "cell_type": "code",
      "execution_count": null,
      "metadata": {
        "id": "1riZrqRnca01"
      },
      "outputs": [],
      "source": [
        "import numpy as np\n",
        "\n",
        "n = 10\n",
        "k = 12\n",
        "A = np.ones(n)\n",
        "I = np.random.randint(0,len(Z),k)\n",
        "\n",
        "\n",
        "# ваше решение\n",
        "# ТЗ очень не ясно, \"Прибавьте к каждому значению массиву A по массиву индексов\" ??? К значению\n",
        "# нельзя прибавить массив.\n",
        "# Если речь идет про то, что нужно к каждому элементу А прибавить сумму элементов массива I, \n",
        "# то решение будет таким:\n",
        "A = A + np.sum(I)\n",
        "# К чему нужно прибавлять еденицу? Если речь идет о простом алгебраическом прибавлении, то прошлое решение модифицируется так:\n",
        "A = A + 1\n",
        "# Если же речь идет о том, что нужно сложить как то поиндексно, то решаение будет кардинально \n",
        "# другим, но я не могу представить\n",
        "# какие манипуляции с рандомными (возможно повторяющимеся!!!) числами надо совершить чтобы \n",
        "# получилась вменяемая задача:\n",
        "# Более того: что такое Z? Из контекста не понятно что это такое, но если это опечатка, то \n",
        "# повторения все равно могут быть и все равно не ясно что имелось ввиду в задаче"
      ]
    },
    {
      "cell_type": "markdown",
      "metadata": {
        "id": "3lVqgJCMSho-"
      },
      "source": [
        "## Pandas"
      ]
    },
    {
      "cell_type": "markdown",
      "metadata": {
        "id": "qCt5tcUZZrnx"
      },
      "source": [
        "https://www.kaggle.com/datasets/vinesmsuic/star-categorization-giants-and-dwarfs"
      ]
    },
    {
      "cell_type": "markdown",
      "metadata": {
        "id": "KUI17XWsSqLF"
      },
      "source": [
        "- Какие типы данных присутствуют в датасете?\n",
        "- Есть ли в датасете пропущенные значения? Если да, то сколько и где?\n",
        "- Постройте гистаграмму переменной `Target`.\n",
        "- Постройте heatmap для матрицы корреляции переменных в датасете.\n",
        "- Постройте pairplot для всех переменных\n",
        "- Постройте boxplot для всех переменных и выведете объекты которые являются выбросами (строки из датафрейма).\n",
        "- Посчитайте различные статестические показатели (среднее, медиана, максимум, минимум) для различных классов *(т.е. отдельно какие показатели у класса 0, какие у класса 1)*.\n",
        "- Проанализируйте колонку `SpType`. Подсчитаете количество звёзд относящихся к различным классам.\n",
        "`SpType` - спектральный класс звезды согласно классификации Моргана-Кинана."
      ]
    },
    {
      "cell_type": "code",
      "execution_count": null,
      "metadata": {},
      "outputs": [],
      "source": [
        "import pandas as pd\n",
        "\n",
        "\"\"\" Вариант импорта из Kaggle\n",
        "import kagglehub\n",
        "\n",
        "path = kagglehub.dataset_download(\"vinesmsuic/star-categorization-giants-and-dwarfs\")\n",
        "df = pd.read_csv(path)\n",
        "\"\"\"\n",
        "# Или импортируем из любой другой папки, в моем случае, эта та папка в которой лежит этот ноутбук\n",
        "df = pd.read_csv(\"Stars_raw.csv\")\n",
        "\n",
        "# 1.\n",
        "print(df.dtypes)\n",
        "# 2.\n",
        "missing_values = df.isnull().sum()\n",
        "for value, key in zip(missing_values, missing_values.keys()):\n",
        "    if value > 0:\n",
        "        print(f'Missing value: {key} {value} times')\n",
        "\n",
        "# 3.\n",
        "import matplotlib.pyplot as plt\n",
        "df = pd.read_csv(\"Star_balanced.csv\")\n",
        "plt.figure(figsize=(8, 5))\n",
        "df['TargetClass'].hist(bins=20, edgecolor='black')\n",
        "plt.xlabel('Target') # Колонки Target нету, поэтому поставил существующую колонку\n",
        "plt.ylabel('Количество')\n",
        "plt.title('Гистограмма переменной Target')\n",
        "plt.show() # Гистограмма крайне интересная, подозреваю, что у меня не тот датасет\n",
        "\n",
        "# Логичней было бы выводить гистограмму SpType\n",
        "# Но она все равно выглядит плохо т.к. даже там классов очень много\n",
        "import matplotlib.pyplot as plt\n",
        "df = pd.read_csv(\"Star_balanced.csv\")\n",
        "plt.figure(figsize=(8, 5))\n",
        "df['SpType'].hist(bins=20, edgecolor='black')\n",
        "plt.xlabel('Target') \n",
        "plt.ylabel('Количество')\n",
        "plt.title('Гистограмма переменной Target')\n",
        "plt.show()\n",
        "\n",
        "# 4.\n",
        "import seaborn as sns\n",
        "df = df.drop(columns='SpType')\n",
        "sns.heatmap(df.corr(), annot=True)\n",
        "plt.show()\n",
        "# 5.\n",
        "sns.pairplot(df)\n",
        "plt.show()\n",
        "\n",
        "# 6.\n",
        "for column in df.columns:\n",
        "    if column != 'TargetClass' or column != 'SpType':\n",
        "        plt.figure(figsize=(10, 5))\n",
        "        sns.boxplot(x=df[column])\n",
        "        plt.title(f'Boxplot для переменной {column}')\n",
        "        plt.show()\n",
        "        Q1 = df[column].quantile(0.25)\n",
        "        Q3 = df[column].quantile(0.75)\n",
        "        IQR = Q3 - Q1\n",
        "        outliers = df[(df[column] < (Q1 - 1.5 * IQR)) | (df[column] > (Q3 + 1.5 * IQR))]\n",
        "        if not outliers.empty:\n",
        "            print(f\"\\nВыбросы в колонке {column}:\")\n",
        "            print(outliers)\n",
        "\n",
        "# 8.\n",
        "for target_class in df['SpType'].unique():\n",
        "    class_data = df[df['SpType'] == target_class]\n",
        "    print(f\"Класса {target_class}: {len(class_data)} штук\")\n",
        "\n",
        "# 7.\n",
        "for column in df.columns:\n",
        "    if column != 'TargetClass' or column != 'SpType':\n",
        "        print(f\"\\nСтатистические показатели для класса {df[column]}:\\n\")\n",
        "        print(\"Среднее значение:\\n\", df[column].mean())\n",
        "        print(\"Медиана:\\n\", df[column].median())\n",
        "        print(\"Максимум:\\n\", df[column].max())\n",
        "        print(\"Минимум:\\n\", df[column].min())"
      ]
    }
  ],
  "metadata": {
    "colab": {
      "provenance": []
    },
    "kernelspec": {
      "display_name": "Python 3",
      "name": "python3"
    },
    "language_info": {
      "name": "python"
    }
  },
  "nbformat": 4,
  "nbformat_minor": 0
}
