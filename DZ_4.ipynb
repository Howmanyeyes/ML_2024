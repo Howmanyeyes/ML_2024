{
 "cells": [
  {
   "cell_type": "code",
   "execution_count": 1,
   "metadata": {},
   "outputs": [],
   "source": [
    "import numpy as np\n",
    "import matplotlib.pyplot as plt\n",
    "from sklearn.linear_model import LinearRegression\n",
    "from sklearn.metrics import r2_score, mean_absolute_error, mean_squared_error\n",
    "import pandas as pd\n",
    "import seaborn as sns"
   ]
  },
  {
   "cell_type": "code",
   "execution_count": 26,
   "metadata": {},
   "outputs": [],
   "source": [
    "train_set = pd.read_csv('data/Price_euros_train.csv')\n",
    "test_set = pd.read_csv('data/Price_euros_test.csv')\n",
    "sub_set = pd.read_csv('data/Sample_submition.csv')"
   ]
  },
  {
   "cell_type": "code",
   "execution_count": 3,
   "metadata": {},
   "outputs": [
    {
     "name": "stdout",
     "output_type": "stream",
     "text": [
      "<class 'pandas.core.frame.DataFrame'>\n",
      "RangeIndex: 1108 entries, 0 to 1107\n",
      "Data columns (total 13 columns):\n",
      " #   Column            Non-Null Count  Dtype  \n",
      "---  ------            --------------  -----  \n",
      " 0   laptop_ID         1108 non-null   int64  \n",
      " 1   Company           1108 non-null   object \n",
      " 2   Product           1108 non-null   object \n",
      " 3   TypeName          1108 non-null   object \n",
      " 4   Inches            1108 non-null   float64\n",
      " 5   ScreenResolution  1097 non-null   object \n",
      " 6   Cpu               1108 non-null   object \n",
      " 7   Ram               1108 non-null   object \n",
      " 8   Memory            1108 non-null   object \n",
      " 9   Gpu               1108 non-null   object \n",
      " 10  OpSys             1055 non-null   object \n",
      " 11  Weight            1086 non-null   object \n",
      " 12  Price_euros       1108 non-null   float64\n",
      "dtypes: float64(2), int64(1), object(10)\n",
      "memory usage: 112.7+ KB\n",
      "None\n"
     ]
    }
   ],
   "source": [
    "print(train_set.info())"
   ]
  },
  {
   "cell_type": "code",
   "execution_count": 4,
   "metadata": {},
   "outputs": [
    {
     "name": "stdout",
     "output_type": "stream",
     "text": [
      "<class 'pandas.core.frame.DataFrame'>\n",
      "RangeIndex: 195 entries, 0 to 194\n",
      "Data columns (total 12 columns):\n",
      " #   Column            Non-Null Count  Dtype  \n",
      "---  ------            --------------  -----  \n",
      " 0   laptop_ID         195 non-null    int64  \n",
      " 1   Company           195 non-null    object \n",
      " 2   Product           195 non-null    object \n",
      " 3   TypeName          195 non-null    object \n",
      " 4   Inches            195 non-null    float64\n",
      " 5   ScreenResolution  193 non-null    object \n",
      " 6   Cpu               195 non-null    object \n",
      " 7   Ram               195 non-null    object \n",
      " 8   Memory            195 non-null    object \n",
      " 9   Gpu               195 non-null    object \n",
      " 10  OpSys             183 non-null    object \n",
      " 11  Weight            191 non-null    object \n",
      "dtypes: float64(1), int64(1), object(10)\n",
      "memory usage: 18.4+ KB\n",
      "None\n"
     ]
    }
   ],
   "source": [
    "print(test_set.info())"
   ]
  },
  {
   "cell_type": "code",
   "execution_count": 5,
   "metadata": {},
   "outputs": [
    {
     "name": "stdout",
     "output_type": "stream",
     "text": [
      "              Column  Null Count  Null Percentage\n",
      "10             OpSys          12         6.153846\n",
      "11            Weight           4         2.051282\n",
      "5   ScreenResolution           2         1.025641\n",
      "0          laptop_ID           0         0.000000\n",
      "3           TypeName           0         0.000000\n",
      "\n",
      "              Column  Null Count  Null Percentage\n",
      "10             OpSys          53         4.783394\n",
      "11            Weight          22         1.985560\n",
      "5   ScreenResolution          11         0.992780\n",
      "1            Company           0         0.000000\n",
      "0          laptop_ID           0         0.000000\n"
     ]
    }
   ],
   "source": [
    "def top_columns_with_nulls(dataframe, top_n=5):\n",
    "    total_rows = len(dataframe)\n",
    "    null_counts = dataframe.isnull().sum()\n",
    "    null_percentage = (null_counts / total_rows) * 100\n",
    "    null_info_df = pd.DataFrame({\n",
    "        'Column': null_counts.index,\n",
    "        'Null Count': null_counts.values,\n",
    "        'Null Percentage': null_percentage.values\n",
    "    })\n",
    "    sorted_nulls = null_info_df.sort_values(by='Null Count', ascending=False)\n",
    "    return sorted_nulls.head(top_n)\n",
    "\n",
    "print(top_columns_with_nulls(test_set))\n",
    "print()\n",
    "print(top_columns_with_nulls(train_set))"
   ]
  },
  {
   "cell_type": "code",
   "execution_count": 6,
   "metadata": {},
   "outputs": [],
   "source": [
    "def kg_to_float(dataframe, column_name):\n",
    "    converted_df = dataframe.copy()\n",
    "    converted_df[column_name] = (\n",
    "        converted_df[column_name]\n",
    "        .str.replace('kg', '', regex=False)  # Remove 'kg'\n",
    "        .str.strip()                        # Remove leading/trailing spaces\n",
    "        .astype(float)                      # Convert to float\n",
    "    )\n",
    "    print(f\"Column '{column_name}' converted to float.\")\n",
    "    return converted_df\n",
    "def delete_null_rows(dataframe):\n",
    "    cleaned_df = dataframe.dropna()\n",
    "    print(f\"Rows removed: {len(dataframe) - len(cleaned_df)}\")\n",
    "    return cleaned_df\n",
    "def auto_fill_nulls(dataframe):\n",
    "    filled_df = dataframe.copy()\n",
    "    for column in filled_df.columns:\n",
    "        if filled_df[column].isnull().sum() > 0:  # Only process columns with nulls\n",
    "            if np.issubdtype(filled_df[column].dtype, np.number):\n",
    "                # Fill numeric column with median\n",
    "                median_value = filled_df[column].median()\n",
    "                filled_df[column].fillna(median_value, inplace=True)\n",
    "                print(f\"Filled nulls in numeric column '{column}' with median value: {median_value}\")\n",
    "            else:\n",
    "                # Fill non-numeric column with random choice from top 3 most common values\n",
    "                top_3_values = filled_df[column].value_counts().index[:3]\n",
    "                if len(top_3_values) > 0:  # Ensure there are enough values to choose from\n",
    "                    random_choice = np.random.choice(top_3_values)\n",
    "                    filled_df[column].fillna(random_choice, inplace=True)\n",
    "                    print(f\"Filled nulls in non-numeric column '{column}' with random choice from top 3: {random_choice}\")\n",
    "                else:\n",
    "                    print(f\"Column '{column}' has no valid non-null values to use for filling.\")\n",
    "    return filled_df"
   ]
  },
  {
   "cell_type": "code",
   "execution_count": 7,
   "metadata": {},
   "outputs": [
    {
     "name": "stdout",
     "output_type": "stream",
     "text": [
      "Column 'Weight' converted to float.\n",
      "Column 'Weight' converted to float.\n",
      "Filled nulls in non-numeric column 'ScreenResolution' with random choice from top 3: Full HD 1920x1080\n",
      "Filled nulls in non-numeric column 'OpSys' with random choice from top 3: Windows 7\n",
      "Filled nulls in numeric column 'Weight' with median value: 2.04\n",
      "Rows removed: 18\n",
      "Filled nulls in non-numeric column 'ScreenResolution' with random choice from top 3: IPS Panel Full HD 1920x1080\n",
      "Filled nulls in non-numeric column 'OpSys' with random choice from top 3: No OS\n",
      "Filled nulls in numeric column 'Weight' with median value: 2.04\n",
      "Rows removed: 82\n"
     ]
    },
    {
     "name": "stderr",
     "output_type": "stream",
     "text": [
      "C:\\Users\\1TB\\AppData\\Local\\Temp\\ipykernel_14144\\473903393.py:29: FutureWarning: A value is trying to be set on a copy of a DataFrame or Series through chained assignment using an inplace method.\n",
      "The behavior will change in pandas 3.0. This inplace method will never work because the intermediate object on which we are setting values always behaves as a copy.\n",
      "\n",
      "For example, when doing 'df[col].method(value, inplace=True)', try using 'df.method({col: value}, inplace=True)' or df[col] = df[col].method(value) instead, to perform the operation inplace on the original object.\n",
      "\n",
      "\n",
      "  filled_df[column].fillna(random_choice, inplace=True)\n",
      "C:\\Users\\1TB\\AppData\\Local\\Temp\\ipykernel_14144\\473903393.py:29: FutureWarning: A value is trying to be set on a copy of a DataFrame or Series through chained assignment using an inplace method.\n",
      "The behavior will change in pandas 3.0. This inplace method will never work because the intermediate object on which we are setting values always behaves as a copy.\n",
      "\n",
      "For example, when doing 'df[col].method(value, inplace=True)', try using 'df.method({col: value}, inplace=True)' or df[col] = df[col].method(value) instead, to perform the operation inplace on the original object.\n",
      "\n",
      "\n",
      "  filled_df[column].fillna(random_choice, inplace=True)\n",
      "C:\\Users\\1TB\\AppData\\Local\\Temp\\ipykernel_14144\\473903393.py:22: FutureWarning: A value is trying to be set on a copy of a DataFrame or Series through chained assignment using an inplace method.\n",
      "The behavior will change in pandas 3.0. This inplace method will never work because the intermediate object on which we are setting values always behaves as a copy.\n",
      "\n",
      "For example, when doing 'df[col].method(value, inplace=True)', try using 'df.method({col: value}, inplace=True)' or df[col] = df[col].method(value) instead, to perform the operation inplace on the original object.\n",
      "\n",
      "\n",
      "  filled_df[column].fillna(median_value, inplace=True)\n",
      "C:\\Users\\1TB\\AppData\\Local\\Temp\\ipykernel_14144\\473903393.py:29: FutureWarning: A value is trying to be set on a copy of a DataFrame or Series through chained assignment using an inplace method.\n",
      "The behavior will change in pandas 3.0. This inplace method will never work because the intermediate object on which we are setting values always behaves as a copy.\n",
      "\n",
      "For example, when doing 'df[col].method(value, inplace=True)', try using 'df.method({col: value}, inplace=True)' or df[col] = df[col].method(value) instead, to perform the operation inplace on the original object.\n",
      "\n",
      "\n",
      "  filled_df[column].fillna(random_choice, inplace=True)\n",
      "C:\\Users\\1TB\\AppData\\Local\\Temp\\ipykernel_14144\\473903393.py:29: FutureWarning: A value is trying to be set on a copy of a DataFrame or Series through chained assignment using an inplace method.\n",
      "The behavior will change in pandas 3.0. This inplace method will never work because the intermediate object on which we are setting values always behaves as a copy.\n",
      "\n",
      "For example, when doing 'df[col].method(value, inplace=True)', try using 'df.method({col: value}, inplace=True)' or df[col] = df[col].method(value) instead, to perform the operation inplace on the original object.\n",
      "\n",
      "\n",
      "  filled_df[column].fillna(random_choice, inplace=True)\n",
      "C:\\Users\\1TB\\AppData\\Local\\Temp\\ipykernel_14144\\473903393.py:22: FutureWarning: A value is trying to be set on a copy of a DataFrame or Series through chained assignment using an inplace method.\n",
      "The behavior will change in pandas 3.0. This inplace method will never work because the intermediate object on which we are setting values always behaves as a copy.\n",
      "\n",
      "For example, when doing 'df[col].method(value, inplace=True)', try using 'df.method({col: value}, inplace=True)' or df[col] = df[col].method(value) instead, to perform the operation inplace on the original object.\n",
      "\n",
      "\n",
      "  filled_df[column].fillna(median_value, inplace=True)\n"
     ]
    }
   ],
   "source": [
    "test_set = kg_to_float(test_set, column_name=\"Weight\")\n",
    "train_set = kg_to_float(train_set, column_name=\"Weight\")\n",
    "filled_test = auto_fill_nulls(test_set)\n",
    "dropped_test = delete_null_rows(test_set)\n",
    "filled_train =  auto_fill_nulls(train_set)\n",
    "dropped_train = delete_null_rows(train_set)\n"
   ]
  },
  {
   "cell_type": "code",
   "execution_count": 8,
   "metadata": {},
   "outputs": [
    {
     "data": {
      "image/png": "[encoded data removed]",
      "text/plain": [
       "<Figure size 1000x800 with 2 Axes>"
      ]
     },
     "metadata": {},
     "output_type": "display_data"
    }
   ],
   "source": [
    "\n",
    "numerical_cols = filled_train.select_dtypes(include=['number'])\n",
    "correlation_matrix = numerical_cols.corr()\n",
    "# Plot a heatmap\n",
    "plt.figure(figsize=(10, 8))\n",
    "sns.heatmap(correlation_matrix, annot=True, cmap='coolwarm', fmt=\".2f\")\n",
    "plt.title(\"Correlation Matrix\")\n",
    "plt.show()"
   ]
  },
  {
   "cell_type": "code",
   "execution_count": 16,
   "metadata": {},
   "outputs": [
    {
     "name": "stdout",
     "output_type": "stream",
     "text": [
      "      laptop_ID  Inches  Weight\n",
      "0             2    13.3    1.34\n",
      "1             4    15.4    1.83\n",
      "2             5    13.3    1.37\n",
      "3             6    15.6    2.10\n",
      "4             7    15.4    2.04\n",
      "...         ...     ...     ...\n",
      "1103       1315    15.6    2.20\n",
      "1104       1316    14.0    1.80\n",
      "1105       1318    14.0    1.50\n",
      "1106       1319    15.6    2.19\n",
      "1107       1320    15.6    2.20\n",
      "\n",
      "[1108 rows x 3 columns]\n",
      "0        898.94\n",
      "1       2537.45\n",
      "2       1803.60\n",
      "3        400.00\n",
      "4       2139.97\n",
      "         ...   \n",
      "1103     720.32\n",
      "1104     638.00\n",
      "1105     229.00\n",
      "1106     764.00\n",
      "1107     369.00\n",
      "Name: Price_euros, Length: 1108, dtype: float64\n",
      "Data split complete: 886 training rows, 222 test rows.\n"
     ]
    }
   ],
   "source": [
    "from sklearn.model_selection import train_test_split\n",
    "\n",
    "def split_train_test(dataframe, target_column, test_size=0.2, random_state=42):\n",
    "    X = dataframe.drop(columns=[target_column])\n",
    "    print(X)\n",
    "    y = dataframe[target_column]    \n",
    "    print(y)\n",
    "    assert len(X) == len(y)\n",
    "    X_train, X_test, y_train, y_test = train_test_split(X, y, test_size=test_size, random_state=random_state)\n",
    "    print(f\"Data split complete: {len(X_train)} training rows, {len(X_test)} test rows.\")\n",
    "    return X_train, X_test, y_train, y_test\n",
    "\n",
    "big_drop_df = filled_train.drop(columns=['OpSys', 'Company', 'Product', 'TypeName',\n",
    "                                         'ScreenResolution', 'Cpu', 'Gpu', 'Ram', 'Memory'])\n",
    "\n",
    "x_train, x_test, y_train, y_test = split_train_test(big_drop_df, 'Price_euros')"
   ]
  },
  {
   "cell_type": "code",
   "execution_count": 11,
   "metadata": {},
   "outputs": [],
   "source": [
    "from sklearn.linear_model import LinearRegression\n",
    "from sklearn.ensemble import RandomForestRegressor\n",
    "from sklearn.metrics import mean_squared_error, r2_score"
   ]
  },
  {
   "cell_type": "code",
   "execution_count": 25,
   "metadata": {},
   "outputs": [
    {
     "name": "stdout",
     "output_type": "stream",
     "text": [
      "RMSE: 554.4021318651198\n",
      "R^2 Score: 0.3729517362472773\n"
     ]
    },
    {
     "data": {
      "text/plain": [
       "array([1019.8556, 1851.84  ,  794.1459, 1181.95  , 2615.5509,  812.291 ,\n",
       "       1390.043 , 1116.66  , 1580.318 , 2369.809 ,  576.7092,  794.5815,\n",
       "        701.4019,  761.3775,  953.0272,  553.0356,  850.4893, 1587.35  ,\n",
       "        840.3374, 1193.8604,  565.8379, 1175.1099,  908.84  , 1446.57  ,\n",
       "        712.9032, 1458.7276,  648.7845,  539.3984, 1516.0904, 1446.7386,\n",
       "       3358.1658,  845.71  ,  953.62  , 2340.8497,  778.6029,  818.0871,\n",
       "       1416.9975,  549.181 , 1521.7254, 1639.4239, 1352.2247,  993.26  ,\n",
       "        919.    , 2884.9666, 1576.7028,  680.6244, 2458.4674, 1355.739 ,\n",
       "        629.5805, 1211.778 ,  351.14  , 1644.1949, 1197.6173,  632.5444,\n",
       "       2008.4388,  617.3347,  724.6663,  893.3027,  841.3232,  948.4739,\n",
       "       1353.4359, 1173.0583, 1162.1996,  736.0736, 1824.133 , 1164.7627,\n",
       "        506.05  ,  973.5137,  928.591 , 1238.5207,  886.9783,  417.0809,\n",
       "        471.1218, 1296.667 ,  906.4501, 1082.1097, 1015.828 , 1161.4   ,\n",
       "       1860.832 , 2846.4392,  535.0748, 1473.1879, 1108.1205, 1428.498 ,\n",
       "        781.2799,  629.7578, 3048.536 , 1027.162 , 1585.0804, 3317.8324,\n",
       "        644.4829, 1369.2845,  997.3033,  545.5587,  792.8555, 1020.4949,\n",
       "        403.2404,  518.6755,  887.8034,  727.73  , 1083.7795, 1055.5705,\n",
       "       1586.0757,  537.1676,  739.4588, 1536.5345,  807.1669, 2075.5441,\n",
       "       2295.7229,  860.4649, 1676.7482,  566.5325,  482.71  ,  601.09  ,\n",
       "        351.14  ,  790.45  , 1022.    , 1011.9846,  627.7499,  848.1994,\n",
       "        548.38  , 1015.67  , 1558.9068, 1957.9649, 1057.636 , 1092.1407,\n",
       "       1544.5488, 1119.2403,  676.7067, 1216.0367,  782.735 ,  621.7699,\n",
       "       1093.6998, 2013.1444, 1467.67  , 1041.7956, 1048.0259, 1448.0968,\n",
       "       2908.8538,  505.294 ,  645.9146,  934.316 ,  632.8128,  516.0533,\n",
       "       1134.7314, 2174.2086, 1456.174 ,  874.099 , 1376.607 , 1285.5416,\n",
       "        617.27  ,  645.133 ,  491.2292,  798.7828, 1278.3558,  643.8739,\n",
       "       1546.1239, 1514.9518, 1122.07  ,  572.6   ,  953.0981, 1372.7894,\n",
       "        815.781 , 2052.3129, 1423.4599,  855.99  , 1469.751 ,  448.28  ,\n",
       "        927.4384, 1929.19  , 1024.8001, 1628.67  , 1044.466 ,  515.0876,\n",
       "        651.766 ,  727.4275,  904.0717,  570.1075,  568.9102, 1068.5586,\n",
       "        783.6981, 1201.354 , 1493.693 ,  621.3554,  628.95  , 1502.3785,\n",
       "        925.9577, 1169.5672, 1203.2332, 1646.4793,  953.6996, 2003.3988,\n",
       "       1675.6003,  956.1221,  773.6895, 3024.4784, 1605.3017,  568.8871,\n",
       "       1633.046 ,  912.2889,  646.779 , 1671.32  , 1291.2903,  774.85  ,\n",
       "        856.8177,  511.6298,  987.8331,  555.9396, 1675.1032, 1757.8552,\n",
       "        515.0876,  822.7048,  927.549 , 1451.508 , 1083.12  , 1313.4143,\n",
       "       1280.5599, 1728.2349, 1277.4964,  292.4835,  580.0515, 1291.7575])"
      ]
     },
     "execution_count": 25,
     "metadata": {},
     "output_type": "execute_result"
    }
   ],
   "source": [
    "model = RandomForestRegressor(n_estimators=100, random_state=42)\n",
    "model.fit(x_train, y_train)\n",
    "y_pred = model.predict(x_test)\n",
    "mse = mean_squared_error(y_test, y_pred)\n",
    "rmse = mse ** 0.5\n",
    "r2 = r2_score(y_test, y_pred)\n",
    "\n",
    "print(f\"RMSE: {rmse}\")\n",
    "print(f\"R^2 Score: {r2}\")\n",
    "y_pred"
   ]
  },
  {
   "cell_type": "code",
   "execution_count": null,
   "metadata": {},
   "outputs": [
    {
     "name": "stdout",
     "output_type": "stream",
     "text": [
      "   index  Price_euros\n",
      "0      0          1.1\n",
      "1      1          1.1\n",
      "2      2          1.1\n",
      "3      3          1.1\n",
      "4      4          1.1\n",
      "Number of entries in sample submission: 195\n",
      "   laptop_ID Company           Product  TypeName  Inches   ScreenResolution  \\\n",
      "0         86    Acer          Aspire 3  Notebook    15.6           1366x768   \n",
      "1       1249   Razer         Blade Pro    Gaming    14.0  Full HD 1920x1080   \n",
      "2        122    Asus      VivoBook S15  Notebook    15.6  Full HD 1920x1080   \n",
      "3        993    Asus  Rog GL753VE-DS74    Gaming    17.3  Full HD 1920x1080   \n",
      "4        739    Dell     Inspiron 3567  Notebook    15.6           1366x768   \n",
      "\n",
      "                           Cpu   Ram                Memory  \\\n",
      "0      AMD A9-Series 9420 3GHz   4GB               1TB HDD   \n",
      "1  Intel Core i7 7700HQ 2.8GHz  16GB               1TB SSD   \n",
      "2   Intel Core i7 8550U 1.8GHz   8GB             256GB SSD   \n",
      "3  Intel Core i7 7700HQ 2.8GHz  16GB  256GB SSD +  1TB HDD   \n",
      "4   Intel Core i5 7200U 2.5GHz  12GB               1TB HDD   \n",
      "\n",
      "                          Gpu       OpSys  Weight  \n",
      "0               AMD Radeon R5  Windows 10   2.1kg  \n",
      "1     Nvidia GeForce GTX 1060  Windows 10  1.95kg  \n",
      "2        Nvidia GeForce 940MX  Windows 10   1.7kg  \n",
      "3  Nvidia GeForce GTX 1050 Ti  Windows 10  2.99kg  \n",
      "4       Intel HD Graphics 620  Windows 10  2.25kg  \n",
      "Number of entries in test data: 195\n",
      "Column 'Weight' converted to float.\n"
     ]
    }
   ],
   "source": [
    "print(sub_set.head())\n",
    "print(f\"Number of entries in sample submission: {len(sub_set)}\")\n",
    "print(test_set.head())\n",
    "print(f\"Number of entries in test data: {len(test_set)}\")\n",
    "\n",
    "test_ids = set(test_set['laptop_ID'])\n",
    "sample_ids = set(sub_set['index'])\n",
    "\n",
    "# Check for missing or extra IDs\n",
    "missing_in_test = sample_ids - test_ids\n",
    "extra_in_test = test_ids - sample_ids\n",
    "\n",
    "test_data_filtered = test_set[test_set['laptop_ID'].isin(sub_set['index'])]\n",
    "\n",
    "X_test = test_data_filtered.drop(columns=['OpSys', 'Company', 'Product', 'TypeName',\n",
    "                                         'ScreenResolution', 'Cpu', 'Gpu', 'Ram', 'Memory'])\n",
    "X_test = kg_to_float(X_test, column_name=\"Weight\")\n",
    "predictions = model.predict(X_test)\n",
    "\n",
    "submission = pd.DataFrame({\n",
    "    'index': test_data_filtered['laptop_ID'],\n",
    "    'Price_euros': predictions\n",
    "})\n",
    "\n",
    "# Merge with sample_submission to ensure correct order\n",
    "submission = sub_set[['index']].merge(submission, on='Id', how='left')\n",
    "\n",
    "# Check for any missing predictions\n",
    "if submission['Price_euros'].isnull().any():\n",
    "    print(\"Warning: Some IDs have missing predictions.\")\n",
    "    # Handle missing predictions as needed\n",
    "\n",
    "# Save the submission file\n",
    "submission.to_csv('submission.csv', index=False)"
   ]
  }
 ],
 "metadata": {
  "kernelspec": {
   "display_name": ".ML_2024",
   "language": "python",
   "name": "python3"
  },
  "language_info": {
   "codemirror_mode": {
    "name": "ipython",
    "version": 3
   },
   "file_extension": ".py",
   "mimetype": "text/x-python",
   "name": "python",
   "nbconvert_exporter": "python",
   "pygments_lexer": "ipython3",
   "version": "3.11.9"
  }
 },
 "nbformat": 4,
 "nbformat_minor": 2
}
