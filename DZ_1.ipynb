{
 "cells": [
  {
   "cell_type": "code",
   "execution_count": null,
   "metadata": {},
   "outputs": [],
   "source": [
    "import pandas as pd\n",
    "import numpy as np\n",
    "import matplotlib.pyplot as plt\n",
    "import seaborn as sns\n",
    "from scipy import stats\n",
    "# Just essential tools"
   ]
  },
  {
   "cell_type": "code",
   "execution_count": 2,
   "metadata": {},
   "outputs": [
    {
     "data": {
      "text/html": [
       "<div>\n",
       "<style scoped>\n",
       "    .dataframe tbody tr th:only-of-type {\n",
       "        vertical-align: middle;\n",
       "    }\n",
       "\n",
       "    .dataframe tbody tr th {\n",
       "        vertical-align: top;\n",
       "    }\n",
       "\n",
       "    .dataframe thead th {\n",
       "        text-align: right;\n",
       "    }\n",
       "</style>\n",
       "<table border=\"1\" class=\"dataframe\">\n",
       "  <thead>\n",
       "    <tr style=\"text-align: right;\">\n",
       "      <th></th>\n",
       "      <th>open</th>\n",
       "      <th>close</th>\n",
       "      <th>high</th>\n",
       "      <th>low</th>\n",
       "      <th>volume</th>\n",
       "    </tr>\n",
       "    <tr>\n",
       "      <th>timestamp</th>\n",
       "      <th></th>\n",
       "      <th></th>\n",
       "      <th></th>\n",
       "      <th></th>\n",
       "      <th></th>\n",
       "    </tr>\n",
       "  </thead>\n",
       "  <tbody>\n",
       "    <tr>\n",
       "      <th>2024-01-05 11:55:00</th>\n",
       "      <td>0.112729</td>\n",
       "      <td>0.113025</td>\n",
       "      <td>0.113134</td>\n",
       "      <td>0.112401</td>\n",
       "      <td>67258.53</td>\n",
       "    </tr>\n",
       "    <tr>\n",
       "      <th>2024-01-05 12:00:00</th>\n",
       "      <td>0.113025</td>\n",
       "      <td>0.113068</td>\n",
       "      <td>0.113529</td>\n",
       "      <td>0.11283</td>\n",
       "      <td>132406.52</td>\n",
       "    </tr>\n",
       "    <tr>\n",
       "      <th>2024-01-05 12:05:00</th>\n",
       "      <td>0.113068</td>\n",
       "      <td>0.1119</td>\n",
       "      <td>0.113068</td>\n",
       "      <td>0.111899</td>\n",
       "      <td>196303.66</td>\n",
       "    </tr>\n",
       "  </tbody>\n",
       "</table>\n",
       "</div>"
      ],
      "text/plain": [
       "                         open     close      high       low     volume\n",
       "timestamp                                                             \n",
       "2024-01-05 11:55:00  0.112729  0.113025  0.113134  0.112401   67258.53\n",
       "2024-01-05 12:00:00  0.113025  0.113068  0.113529   0.11283  132406.52\n",
       "2024-01-05 12:05:00  0.113068    0.1119  0.113068  0.111899  196303.66"
      ]
     },
     "execution_count": 2,
     "metadata": {},
     "output_type": "execute_result"
    }
   ],
   "source": [
    "df = pd.read_pickle('data/KAS_USDT_5m_300_days_data.pkl')\n",
    "df_1 = pd.read_pickle('data/KAS_USDT_1m_10_days_data.pkl')\n",
    "\n",
    "df.head(3)\n",
    "# df is a 5-minute dataframe, where each row is a 5-minute candle\n",
    "# Same applies to df_1, but it's recent data and shorter"
   ]
  },
  {
   "cell_type": "code",
   "execution_count": 3,
   "metadata": {},
   "outputs": [
    {
     "name": "stdout",
     "output_type": "stream",
     "text": [
      "17300\n",
      "<class 'pandas.core.frame.DataFrame'>\n",
      "DatetimeIndex: 17300 entries, 2024-01-05 11:55:00 to 2024-10-30 10:50:00\n",
      "Data columns (total 5 columns):\n",
      " #   Column  Non-Null Count  Dtype \n",
      "---  ------  --------------  ----- \n",
      " 0   open    17300 non-null  object\n",
      " 1   close   17300 non-null  object\n",
      " 2   high    17300 non-null  object\n",
      " 3   low     17300 non-null  object\n",
      " 4   volume  17300 non-null  object\n",
      "dtypes: object(5)\n",
      "memory usage: 810.9+ KB\n"
     ]
    }
   ],
   "source": [
    "print(len(df))\n",
    "df.info()\n",
    "# As we can see, df is very good as it doesn't contain any null values, this is because\n",
    "# df is got throug API of exchange MEXC, and it would be worst nightmare for an exchange to \n",
    "# have any undefined values in their data.\n",
    "\n",
    "# Also keep in mind that crypto exhanges work 24/7 without holidays or breaks, so data\n",
    "# doesn't have any gaps\n",
    "\n",
    "# Unfortunately when data is fetched, all values are converted into objects, whily they clearly are\n",
    "# intended to be floats "
   ]
  },
  {
   "cell_type": "code",
   "execution_count": 4,
   "metadata": {},
   "outputs": [
    {
     "data": {
      "text/html": [
       "<div>\n",
       "<style scoped>\n",
       "    .dataframe tbody tr th:only-of-type {\n",
       "        vertical-align: middle;\n",
       "    }\n",
       "\n",
       "    .dataframe tbody tr th {\n",
       "        vertical-align: top;\n",
       "    }\n",
       "\n",
       "    .dataframe thead th {\n",
       "        text-align: right;\n",
       "    }\n",
       "</style>\n",
       "<table border=\"1\" class=\"dataframe\">\n",
       "  <thead>\n",
       "    <tr style=\"text-align: right;\">\n",
       "      <th></th>\n",
       "      <th>open</th>\n",
       "      <th>close</th>\n",
       "      <th>high</th>\n",
       "      <th>low</th>\n",
       "      <th>volume</th>\n",
       "    </tr>\n",
       "  </thead>\n",
       "  <tbody>\n",
       "    <tr>\n",
       "      <th>count</th>\n",
       "      <td>17300.000000</td>\n",
       "      <td>17300.000000</td>\n",
       "      <td>17300.000000</td>\n",
       "      <td>17300.000000</td>\n",
       "      <td>1.730000e+04</td>\n",
       "    </tr>\n",
       "    <tr>\n",
       "      <th>mean</th>\n",
       "      <td>0.145492</td>\n",
       "      <td>0.145493</td>\n",
       "      <td>0.145756</td>\n",
       "      <td>0.145181</td>\n",
       "      <td>2.233928e+05</td>\n",
       "    </tr>\n",
       "    <tr>\n",
       "      <th>std</th>\n",
       "      <td>0.024698</td>\n",
       "      <td>0.024696</td>\n",
       "      <td>0.024725</td>\n",
       "      <td>0.024665</td>\n",
       "      <td>3.470606e+05</td>\n",
       "    </tr>\n",
       "    <tr>\n",
       "      <th>min</th>\n",
       "      <td>0.095761</td>\n",
       "      <td>0.095761</td>\n",
       "      <td>0.096825</td>\n",
       "      <td>0.095600</td>\n",
       "      <td>0.000000e+00</td>\n",
       "    </tr>\n",
       "    <tr>\n",
       "      <th>25%</th>\n",
       "      <td>0.125451</td>\n",
       "      <td>0.125451</td>\n",
       "      <td>0.125698</td>\n",
       "      <td>0.125103</td>\n",
       "      <td>5.144840e+04</td>\n",
       "    </tr>\n",
       "    <tr>\n",
       "      <th>50%</th>\n",
       "      <td>0.146234</td>\n",
       "      <td>0.146241</td>\n",
       "      <td>0.146537</td>\n",
       "      <td>0.146000</td>\n",
       "      <td>1.168319e+05</td>\n",
       "    </tr>\n",
       "    <tr>\n",
       "      <th>75%</th>\n",
       "      <td>0.166471</td>\n",
       "      <td>0.166478</td>\n",
       "      <td>0.166714</td>\n",
       "      <td>0.166200</td>\n",
       "      <td>2.511642e+05</td>\n",
       "    </tr>\n",
       "    <tr>\n",
       "      <th>max</th>\n",
       "      <td>0.207599</td>\n",
       "      <td>0.207599</td>\n",
       "      <td>0.207914</td>\n",
       "      <td>0.207046</td>\n",
       "      <td>6.126775e+06</td>\n",
       "    </tr>\n",
       "  </tbody>\n",
       "</table>\n",
       "</div>"
      ],
      "text/plain": [
       "               open         close          high           low        volume\n",
       "count  17300.000000  17300.000000  17300.000000  17300.000000  1.730000e+04\n",
       "mean       0.145492      0.145493      0.145756      0.145181  2.233928e+05\n",
       "std        0.024698      0.024696      0.024725      0.024665  3.470606e+05\n",
       "min        0.095761      0.095761      0.096825      0.095600  0.000000e+00\n",
       "25%        0.125451      0.125451      0.125698      0.125103  5.144840e+04\n",
       "50%        0.146234      0.146241      0.146537      0.146000  1.168319e+05\n",
       "75%        0.166471      0.166478      0.166714      0.166200  2.511642e+05\n",
       "max        0.207599      0.207599      0.207914      0.207046  6.126775e+06"
      ]
     },
     "execution_count": 4,
     "metadata": {},
     "output_type": "execute_result"
    }
   ],
   "source": [
    "df = df.astype({'high': float, 'low': float, 'open': float, \"close\": float, 'volume': float})\n",
    "df.describe()\n",
    "\n",
    "# Now after type conversion (which could be done at the moment of import) we can get basic \n",
    "# understanding of our dataframe. "
   ]
  },
  {
   "cell_type": "code",
   "execution_count": 5,
   "metadata": {},
   "outputs": [
    {
     "ename": "NameError",
     "evalue": "name 'stats' is not defined",
     "output_type": "error",
     "traceback": [
      "\u001b[1;31m---------------------------------------------------------------------------\u001b[0m",
      "\u001b[1;31mNameError\u001b[0m                                 Traceback (most recent call last)",
      "Cell \u001b[1;32mIn[5], line 14\u001b[0m\n\u001b[0;32m     12\u001b[0m x_left, x_right \u001b[38;5;241m=\u001b[39m ax\u001b[38;5;241m.\u001b[39mget_xlim()\n\u001b[0;32m     13\u001b[0m x \u001b[38;5;241m=\u001b[39m np\u001b[38;5;241m.\u001b[39mlinspace(x_left, x_right, \u001b[38;5;241m10000\u001b[39m)\n\u001b[1;32m---> 14\u001b[0m y \u001b[38;5;241m=\u001b[39m \u001b[43mstats\u001b[49m\u001b[38;5;241m.\u001b[39mnorm\u001b[38;5;241m.\u001b[39mpdf(x, loc\u001b[38;5;241m=\u001b[39mloc, scale\u001b[38;5;241m=\u001b[39mscale)\n\u001b[0;32m     16\u001b[0m ax\u001b[38;5;241m.\u001b[39mplot(x, y, linestyle\u001b[38;5;241m=\u001b[39m\u001b[38;5;124m'\u001b[39m\u001b[38;5;124mdashed\u001b[39m\u001b[38;5;124m'\u001b[39m)\n\u001b[0;32m     17\u001b[0m ax\u001b[38;5;241m.\u001b[39mset_title(key)\n",
      "\u001b[1;31mNameError\u001b[0m: name 'stats' is not defined"
     ]
    },
    {
     "data": {
      "image/png": "[encoded data removed]",
      "text/plain": [
       "<Figure size 4000x400 with 5 Axes>"
      ]
     },
     "metadata": {},
     "output_type": "display_data"
    }
   ],
   "source": [
    "keys = ['high', 'low', 'open', 'close', 'volume']\n",
    "fig, axes = plt.subplots(ncols=len(keys))\n",
    "fig.set_size_inches(8 * len(keys), 4)\n",
    "axes = axes.flatten()\n",
    "\n",
    "for key, ax in zip(keys, axes):\n",
    "    ax.hist(df[key], density=True, bins=23)\n",
    "    \n",
    "    loc = df[key].mean()\n",
    "    scale = df[key].std()\n",
    "    \n",
    "    x_left, x_right = ax.get_xlim()\n",
    "    x = np.linspace(x_left, x_right, 10000)\n",
    "    y = stats.norm.pdf(x, loc=loc, scale=scale)\n",
    "    \n",
    "    ax.plot(x, y, linestyle='dashed')\n",
    "    ax.set_title(key)"
   ]
  }
 ],
 "metadata": {
  "kernelspec": {
   "display_name": ".ML_2024",
   "language": "python",
   "name": "python3"
  },
  "language_info": {
   "codemirror_mode": {
    "name": "ipython",
    "version": 3
   },
   "file_extension": ".py",
   "mimetype": "text/x-python",
   "name": "python",
   "nbconvert_exporter": "python",
   "pygments_lexer": "ipython3",
   "version": "3.11.9"
  }
 },
 "nbformat": 4,
 "nbformat_minor": 2
}
