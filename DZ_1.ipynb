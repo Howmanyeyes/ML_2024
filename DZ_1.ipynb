{
 "cells": [
  {
   "cell_type": "code",
   "execution_count": 2,
   "metadata": {},
   "outputs": [],
   "source": [
    "import pandas as pd\n",
    "import numpy as np\n",
    "import matplotlib.pyplot as plt\n",
    "import seaborn as sns\n",
    "# Just essential tools"
   ]
  },
  {
   "cell_type": "code",
   "execution_count": 8,
   "metadata": {},
   "outputs": [
    {
     "data": {
      "text/html": [
       "<div>\n",
       "<style scoped>\n",
       "    .dataframe tbody tr th:only-of-type {\n",
       "        vertical-align: middle;\n",
       "    }\n",
       "\n",
       "    .dataframe tbody tr th {\n",
       "        vertical-align: top;\n",
       "    }\n",
       "\n",
       "    .dataframe thead th {\n",
       "        text-align: right;\n",
       "    }\n",
       "</style>\n",
       "<table border=\"1\" class=\"dataframe\">\n",
       "  <thead>\n",
       "    <tr style=\"text-align: right;\">\n",
       "      <th></th>\n",
       "      <th>open</th>\n",
       "      <th>close</th>\n",
       "      <th>high</th>\n",
       "      <th>low</th>\n",
       "      <th>volume</th>\n",
       "    </tr>\n",
       "    <tr>\n",
       "      <th>timestamp</th>\n",
       "      <th></th>\n",
       "      <th></th>\n",
       "      <th></th>\n",
       "      <th></th>\n",
       "      <th></th>\n",
       "    </tr>\n",
       "  </thead>\n",
       "  <tbody>\n",
       "    <tr>\n",
       "      <th>2024-01-05 11:55:00</th>\n",
       "      <td>0.112729</td>\n",
       "      <td>0.113025</td>\n",
       "      <td>0.113134</td>\n",
       "      <td>0.112401</td>\n",
       "      <td>67258.53</td>\n",
       "    </tr>\n",
       "    <tr>\n",
       "      <th>2024-01-05 12:00:00</th>\n",
       "      <td>0.113025</td>\n",
       "      <td>0.113068</td>\n",
       "      <td>0.113529</td>\n",
       "      <td>0.11283</td>\n",
       "      <td>132406.52</td>\n",
       "    </tr>\n",
       "    <tr>\n",
       "      <th>2024-01-05 12:05:00</th>\n",
       "      <td>0.113068</td>\n",
       "      <td>0.1119</td>\n",
       "      <td>0.113068</td>\n",
       "      <td>0.111899</td>\n",
       "      <td>196303.66</td>\n",
       "    </tr>\n",
       "  </tbody>\n",
       "</table>\n",
       "</div>"
      ],
      "text/plain": [
       "                         open     close      high       low     volume\n",
       "timestamp                                                             \n",
       "2024-01-05 11:55:00  0.112729  0.113025  0.113134  0.112401   67258.53\n",
       "2024-01-05 12:00:00  0.113025  0.113068  0.113529   0.11283  132406.52\n",
       "2024-01-05 12:05:00  0.113068    0.1119  0.113068  0.111899  196303.66"
      ]
     },
     "execution_count": 8,
     "metadata": {},
     "output_type": "execute_result"
    }
   ],
   "source": [
    "# df_5 is a 5-minute dataframe, where each row is a 5-minute candle\n",
    "# Same applies to df_1, but it's recent data and shorter\n",
    "df_5 = pd.read_pickle('data/KAS_USDT_5m_300_days_data.pkl')\n",
    "df_1 = pd.read_pickle('data/KAS_USDT_1m_10_days_data.pkl')\n",
    "\n",
    "df_5.head(3)"
   ]
  },
  {
   "cell_type": "code",
   "execution_count": 11,
   "metadata": {},
   "outputs": [
    {
     "data": {
      "text/html": [
       "<div>\n",
       "<style scoped>\n",
       "    .dataframe tbody tr th:only-of-type {\n",
       "        vertical-align: middle;\n",
       "    }\n",
       "\n",
       "    .dataframe tbody tr th {\n",
       "        vertical-align: top;\n",
       "    }\n",
       "\n",
       "    .dataframe thead th {\n",
       "        text-align: right;\n",
       "    }\n",
       "</style>\n",
       "<table border=\"1\" class=\"dataframe\">\n",
       "  <thead>\n",
       "    <tr style=\"text-align: right;\">\n",
       "      <th></th>\n",
       "      <th>open</th>\n",
       "      <th>close</th>\n",
       "      <th>high</th>\n",
       "      <th>low</th>\n",
       "      <th>volume</th>\n",
       "    </tr>\n",
       "  </thead>\n",
       "  <tbody>\n",
       "    <tr>\n",
       "      <th>count</th>\n",
       "      <td>17300</td>\n",
       "      <td>17300</td>\n",
       "      <td>17300</td>\n",
       "      <td>17300</td>\n",
       "      <td>17300</td>\n",
       "    </tr>\n",
       "    <tr>\n",
       "      <th>unique</th>\n",
       "      <td>14605</td>\n",
       "      <td>14607</td>\n",
       "      <td>13707</td>\n",
       "      <td>13709</td>\n",
       "      <td>17296</td>\n",
       "    </tr>\n",
       "    <tr>\n",
       "      <th>top</th>\n",
       "      <td>0.17</td>\n",
       "      <td>0.17</td>\n",
       "      <td>0.17</td>\n",
       "      <td>0.165</td>\n",
       "      <td>0</td>\n",
       "    </tr>\n",
       "    <tr>\n",
       "      <th>freq</th>\n",
       "      <td>29</td>\n",
       "      <td>29</td>\n",
       "      <td>50</td>\n",
       "      <td>18</td>\n",
       "      <td>4</td>\n",
       "    </tr>\n",
       "  </tbody>\n",
       "</table>\n",
       "</div>"
      ],
      "text/plain": [
       "         open  close   high    low volume\n",
       "count   17300  17300  17300  17300  17300\n",
       "unique  14605  14607  13707  13709  17296\n",
       "top      0.17   0.17   0.17  0.165      0\n",
       "freq       29     29     50     18      4"
      ]
     },
     "execution_count": 11,
     "metadata": {},
     "output_type": "execute_result"
    }
   ],
   "source": [
    "df_5.describe()"
   ]
  }
 ],
 "metadata": {
  "kernelspec": {
   "display_name": ".ML_MEPHI_venv",
   "language": "python",
   "name": "python3"
  },
  "language_info": {
   "codemirror_mode": {
    "name": "ipython",
    "version": 3
   },
   "file_extension": ".py",
   "mimetype": "text/x-python",
   "name": "python",
   "nbconvert_exporter": "python",
   "pygments_lexer": "ipython3",
   "version": "3.11.9"
  }
 },
 "nbformat": 4,
 "nbformat_minor": 2
}
